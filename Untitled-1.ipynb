{
 "cells": [
  {
   "cell_type": "code",
   "execution_count": 340,
   "metadata": {},
   "outputs": [],
   "source": [
    "#Import Libraries\n",
    "import pandas as pd\n",
    "import matplotlib.pyplot as plt\n",
    "import seaborn as sns\n",
    "import warnings \n",
    "warnings.filterwarnings('ignore') "
   ]
  },
  {
   "cell_type": "code",
   "execution_count": 341,
   "metadata": {},
   "outputs": [],
   "source": [
    "# Load Dataset\n",
    "df = pd.read_csv('raw_data.csv')"
   ]
  },
  {
   "cell_type": "code",
   "execution_count": 342,
   "metadata": {},
   "outputs": [
    {
     "data": {
      "text/html": [
       "<div>\n",
       "<style scoped>\n",
       "    .dataframe tbody tr th:only-of-type {\n",
       "        vertical-align: middle;\n",
       "    }\n",
       "\n",
       "    .dataframe tbody tr th {\n",
       "        vertical-align: top;\n",
       "    }\n",
       "\n",
       "    .dataframe thead th {\n",
       "        text-align: right;\n",
       "    }\n",
       "</style>\n",
       "<table border=\"1\" class=\"dataframe\">\n",
       "  <thead>\n",
       "    <tr style=\"text-align: right;\">\n",
       "      <th></th>\n",
       "      <th>Unnamed: 0</th>\n",
       "      <th>departamento</th>\n",
       "      <th>municipio</th>\n",
       "      <th>codigo_dane</th>\n",
       "      <th>armas_medios</th>\n",
       "      <th>fecha_hecho</th>\n",
       "      <th>genero</th>\n",
       "      <th>grupo_etario</th>\n",
       "      <th>cantidad</th>\n",
       "    </tr>\n",
       "  </thead>\n",
       "  <tbody>\n",
       "    <tr>\n",
       "      <th>0</th>\n",
       "      <td>0</td>\n",
       "      <td>ATLÁNTICO</td>\n",
       "      <td>BARRANQUILLA (CT)</td>\n",
       "      <td>8001000</td>\n",
       "      <td>ARMA BLANCA / CORTOPUNZANTE</td>\n",
       "      <td>1/01/2010</td>\n",
       "      <td>MASCULINO</td>\n",
       "      <td>ADULTOS</td>\n",
       "      <td>1</td>\n",
       "    </tr>\n",
       "    <tr>\n",
       "      <th>1</th>\n",
       "      <td>1</td>\n",
       "      <td>BOYACÁ</td>\n",
       "      <td>DUITAMA</td>\n",
       "      <td>15238000</td>\n",
       "      <td>ARMA BLANCA / CORTOPUNZANTE</td>\n",
       "      <td>1/01/2010</td>\n",
       "      <td>FEMENINO</td>\n",
       "      <td>ADULTOS</td>\n",
       "      <td>1</td>\n",
       "    </tr>\n",
       "    <tr>\n",
       "      <th>2</th>\n",
       "      <td>2</td>\n",
       "      <td>CAQUETÁ</td>\n",
       "      <td>PUERTO RICO</td>\n",
       "      <td>18592000</td>\n",
       "      <td>ARMA BLANCA / CORTOPUNZANTE</td>\n",
       "      <td>1/01/2010</td>\n",
       "      <td>MASCULINO</td>\n",
       "      <td>ADULTOS</td>\n",
       "      <td>1</td>\n",
       "    </tr>\n",
       "    <tr>\n",
       "      <th>3</th>\n",
       "      <td>3</td>\n",
       "      <td>CASANARE</td>\n",
       "      <td>MANÍ</td>\n",
       "      <td>85139000</td>\n",
       "      <td>ARMA BLANCA / CORTOPUNZANTE</td>\n",
       "      <td>1/01/2010</td>\n",
       "      <td>FEMENINO</td>\n",
       "      <td>ADULTOS</td>\n",
       "      <td>1</td>\n",
       "    </tr>\n",
       "    <tr>\n",
       "      <th>4</th>\n",
       "      <td>4</td>\n",
       "      <td>CUNDINAMARCA</td>\n",
       "      <td>BOGOTÁ D.C. (CT)</td>\n",
       "      <td>11001000</td>\n",
       "      <td>ARMA BLANCA / CORTOPUNZANTE</td>\n",
       "      <td>1/01/2010</td>\n",
       "      <td>FEMENINO</td>\n",
       "      <td>ADULTOS</td>\n",
       "      <td>1</td>\n",
       "    </tr>\n",
       "  </tbody>\n",
       "</table>\n",
       "</div>"
      ],
      "text/plain": [
       "   Unnamed: 0  departamento          municipio codigo_dane  \\\n",
       "0           0     ATLÁNTICO  BARRANQUILLA (CT)     8001000   \n",
       "1           1        BOYACÁ            DUITAMA    15238000   \n",
       "2           2       CAQUETÁ        PUERTO RICO    18592000   \n",
       "3           3      CASANARE               MANÍ    85139000   \n",
       "4           4  CUNDINAMARCA   BOGOTÁ D.C. (CT)    11001000   \n",
       "\n",
       "                  armas_medios fecha_hecho     genero grupo_etario  cantidad  \n",
       "0  ARMA BLANCA / CORTOPUNZANTE   1/01/2010  MASCULINO      ADULTOS         1  \n",
       "1  ARMA BLANCA / CORTOPUNZANTE   1/01/2010   FEMENINO      ADULTOS         1  \n",
       "2  ARMA BLANCA / CORTOPUNZANTE   1/01/2010  MASCULINO      ADULTOS         1  \n",
       "3  ARMA BLANCA / CORTOPUNZANTE   1/01/2010   FEMENINO      ADULTOS         1  \n",
       "4  ARMA BLANCA / CORTOPUNZANTE   1/01/2010   FEMENINO      ADULTOS         1  "
      ]
     },
     "execution_count": 342,
     "metadata": {},
     "output_type": "execute_result"
    }
   ],
   "source": [
    "# Exploratory Data Analysis and Data Cleaning\n",
    "df.head ()"
   ]
  },
  {
   "cell_type": "code",
   "execution_count": 343,
   "metadata": {},
   "outputs": [
    {
     "data": {
      "text/html": [
       "<div>\n",
       "<style scoped>\n",
       "    .dataframe tbody tr th:only-of-type {\n",
       "        vertical-align: middle;\n",
       "    }\n",
       "\n",
       "    .dataframe tbody tr th {\n",
       "        vertical-align: top;\n",
       "    }\n",
       "\n",
       "    .dataframe thead th {\n",
       "        text-align: right;\n",
       "    }\n",
       "</style>\n",
       "<table border=\"1\" class=\"dataframe\">\n",
       "  <thead>\n",
       "    <tr style=\"text-align: right;\">\n",
       "      <th></th>\n",
       "      <th>Unnamed: 0</th>\n",
       "      <th>departamento</th>\n",
       "      <th>municipio</th>\n",
       "      <th>codigo_dane</th>\n",
       "      <th>armas_medios</th>\n",
       "      <th>fecha_hecho</th>\n",
       "      <th>genero</th>\n",
       "      <th>grupo_etario</th>\n",
       "      <th>cantidad</th>\n",
       "    </tr>\n",
       "  </thead>\n",
       "  <tbody>\n",
       "    <tr>\n",
       "      <th>575716</th>\n",
       "      <td>575716</td>\n",
       "      <td>VALLE</td>\n",
       "      <td>CARTAGO</td>\n",
       "      <td>76147000</td>\n",
       "      <td>SIN EMPLEO DE ARMAS</td>\n",
       "      <td>28/02/2023</td>\n",
       "      <td>FEMENINO</td>\n",
       "      <td>ADULTOS</td>\n",
       "      <td>1</td>\n",
       "    </tr>\n",
       "    <tr>\n",
       "      <th>575717</th>\n",
       "      <td>575717</td>\n",
       "      <td>VALLE</td>\n",
       "      <td>GUACARÍ</td>\n",
       "      <td>76318000</td>\n",
       "      <td>SIN EMPLEO DE ARMAS</td>\n",
       "      <td>28/02/2023</td>\n",
       "      <td>FEMENINO</td>\n",
       "      <td>ADULTOS</td>\n",
       "      <td>1</td>\n",
       "    </tr>\n",
       "    <tr>\n",
       "      <th>575718</th>\n",
       "      <td>575718</td>\n",
       "      <td>VALLE</td>\n",
       "      <td>GUADALAJARA DE BUGA</td>\n",
       "      <td>76111000</td>\n",
       "      <td>SIN EMPLEO DE ARMAS</td>\n",
       "      <td>28/02/2023</td>\n",
       "      <td>FEMENINO</td>\n",
       "      <td>ADULTOS</td>\n",
       "      <td>1</td>\n",
       "    </tr>\n",
       "    <tr>\n",
       "      <th>575719</th>\n",
       "      <td>575719</td>\n",
       "      <td>VALLE</td>\n",
       "      <td>PALMIRA</td>\n",
       "      <td>76520000</td>\n",
       "      <td>SIN EMPLEO DE ARMAS</td>\n",
       "      <td>28/02/2023</td>\n",
       "      <td>FEMENINO</td>\n",
       "      <td>ADULTOS</td>\n",
       "      <td>2</td>\n",
       "    </tr>\n",
       "    <tr>\n",
       "      <th>575720</th>\n",
       "      <td>575720</td>\n",
       "      <td>VALLE</td>\n",
       "      <td>YUMBO</td>\n",
       "      <td>76892000</td>\n",
       "      <td>SIN EMPLEO DE ARMAS</td>\n",
       "      <td>28/02/2023</td>\n",
       "      <td>FEMENINO</td>\n",
       "      <td>ADULTOS</td>\n",
       "      <td>1</td>\n",
       "    </tr>\n",
       "  </tbody>\n",
       "</table>\n",
       "</div>"
      ],
      "text/plain": [
       "        Unnamed: 0 departamento            municipio codigo_dane  \\\n",
       "575716      575716        VALLE              CARTAGO    76147000   \n",
       "575717      575717        VALLE              GUACARÍ    76318000   \n",
       "575718      575718        VALLE  GUADALAJARA DE BUGA    76111000   \n",
       "575719      575719        VALLE              PALMIRA    76520000   \n",
       "575720      575720        VALLE                YUMBO    76892000   \n",
       "\n",
       "               armas_medios fecha_hecho    genero grupo_etario  cantidad  \n",
       "575716  SIN EMPLEO DE ARMAS  28/02/2023  FEMENINO      ADULTOS         1  \n",
       "575717  SIN EMPLEO DE ARMAS  28/02/2023  FEMENINO      ADULTOS         1  \n",
       "575718  SIN EMPLEO DE ARMAS  28/02/2023  FEMENINO      ADULTOS         1  \n",
       "575719  SIN EMPLEO DE ARMAS  28/02/2023  FEMENINO      ADULTOS         2  \n",
       "575720  SIN EMPLEO DE ARMAS  28/02/2023  FEMENINO      ADULTOS         1  "
      ]
     },
     "execution_count": 343,
     "metadata": {},
     "output_type": "execute_result"
    }
   ],
   "source": [
    "df.tail()"
   ]
  },
  {
   "cell_type": "code",
   "execution_count": 344,
   "metadata": {},
   "outputs": [
    {
     "data": {
      "text/plain": [
       "(575721, 9)"
      ]
     },
     "execution_count": 344,
     "metadata": {},
     "output_type": "execute_result"
    }
   ],
   "source": [
    "  df.shape"
   ]
  },
  {
   "cell_type": "code",
   "execution_count": 345,
   "metadata": {},
   "outputs": [
    {
     "data": {
      "text/plain": [
       "Index(['Unnamed: 0', 'departamento', 'municipio', 'codigo_dane',\n",
       "       'armas_medios', 'fecha_hecho', 'genero', 'grupo_etario', 'cantidad'],\n",
       "      dtype='object')"
      ]
     },
     "execution_count": 345,
     "metadata": {},
     "output_type": "execute_result"
    }
   ],
   "source": [
    "df.columns"
   ]
  },
  {
   "cell_type": "code",
   "execution_count": 346,
   "metadata": {},
   "outputs": [
    {
     "name": "stdout",
     "output_type": "stream",
     "text": [
      "<class 'pandas.core.frame.DataFrame'>\n",
      "RangeIndex: 575721 entries, 0 to 575720\n",
      "Data columns (total 9 columns):\n",
      " #   Column        Non-Null Count   Dtype \n",
      "---  ------        --------------   ----- \n",
      " 0   Unnamed: 0    575721 non-null  int64 \n",
      " 1   departamento  575721 non-null  object\n",
      " 2   municipio     575721 non-null  object\n",
      " 3   codigo_dane   575721 non-null  object\n",
      " 4   armas_medios  575721 non-null  object\n",
      " 5   fecha_hecho   575721 non-null  object\n",
      " 6   genero        575721 non-null  object\n",
      " 7   grupo_etario  574110 non-null  object\n",
      " 8   cantidad      575721 non-null  int64 \n",
      "dtypes: int64(2), object(7)\n",
      "memory usage: 39.5+ MB\n"
     ]
    }
   ],
   "source": [
    "df.info()"
   ]
  },
  {
   "cell_type": "code",
   "execution_count": 347,
   "metadata": {},
   "outputs": [],
   "source": [
    "df['fecha_hecho'] = pd.to_numeric(df['fecha_hecho'], errors='coerce')"
   ]
  },
  {
   "cell_type": "code",
   "execution_count": 348,
   "metadata": {},
   "outputs": [
    {
     "data": {
      "text/html": [
       "<div>\n",
       "<style scoped>\n",
       "    .dataframe tbody tr th:only-of-type {\n",
       "        vertical-align: middle;\n",
       "    }\n",
       "\n",
       "    .dataframe tbody tr th {\n",
       "        vertical-align: top;\n",
       "    }\n",
       "\n",
       "    .dataframe thead th {\n",
       "        text-align: right;\n",
       "    }\n",
       "</style>\n",
       "<table border=\"1\" class=\"dataframe\">\n",
       "  <thead>\n",
       "    <tr style=\"text-align: right;\">\n",
       "      <th></th>\n",
       "      <th>departamento</th>\n",
       "      <th>municipio</th>\n",
       "      <th>codigo_dane</th>\n",
       "      <th>armas_medios</th>\n",
       "      <th>genero</th>\n",
       "      <th>grupo_etario</th>\n",
       "    </tr>\n",
       "  </thead>\n",
       "  <tbody>\n",
       "    <tr>\n",
       "      <th>count</th>\n",
       "      <td>575721</td>\n",
       "      <td>575721</td>\n",
       "      <td>575721</td>\n",
       "      <td>575721</td>\n",
       "      <td>575721</td>\n",
       "      <td>574110</td>\n",
       "    </tr>\n",
       "    <tr>\n",
       "      <th>unique</th>\n",
       "      <td>33</td>\n",
       "      <td>1023</td>\n",
       "      <td>2196</td>\n",
       "      <td>11</td>\n",
       "      <td>5</td>\n",
       "      <td>5</td>\n",
       "    </tr>\n",
       "    <tr>\n",
       "      <th>top</th>\n",
       "      <td>CUNDINAMARCA</td>\n",
       "      <td>BOGOTÁ D.C. (CT)</td>\n",
       "      <td>11001000</td>\n",
       "      <td>CONTUNDENTES</td>\n",
       "      <td>FEMENINO</td>\n",
       "      <td>ADULTOS</td>\n",
       "    </tr>\n",
       "    <tr>\n",
       "      <th>freq</th>\n",
       "      <td>104692</td>\n",
       "      <td>58548</td>\n",
       "      <td>33184</td>\n",
       "      <td>280171</td>\n",
       "      <td>437931</td>\n",
       "      <td>503613</td>\n",
       "    </tr>\n",
       "  </tbody>\n",
       "</table>\n",
       "</div>"
      ],
      "text/plain": [
       "        departamento         municipio  codigo_dane  armas_medios    genero  \\\n",
       "count         575721            575721       575721        575721    575721   \n",
       "unique            33              1023         2196            11         5   \n",
       "top     CUNDINAMARCA  BOGOTÁ D.C. (CT)     11001000  CONTUNDENTES  FEMENINO   \n",
       "freq          104692             58548        33184        280171    437931   \n",
       "\n",
       "       grupo_etario  \n",
       "count        574110  \n",
       "unique            5  \n",
       "top         ADULTOS  \n",
       "freq         503613  "
      ]
     },
     "execution_count": 348,
     "metadata": {},
     "output_type": "execute_result"
    }
   ],
   "source": [
    "df.describe(include = 'object')"
   ]
  },
  {
   "cell_type": "code",
   "execution_count": 349,
   "metadata": {},
   "outputs": [
    {
     "name": "stdout",
     "output_type": "stream",
     "text": [
      "departamento\n",
      "['ATLÁNTICO' 'BOYACÁ' 'CAQUETÁ' 'CASANARE' 'CUNDINAMARCA' 'SUCRE' 'VALLE'\n",
      " 'HUILA' 'ANTIOQUIA' 'ARAUCA' 'BOLÍVAR' 'CALDAS' 'CAUCA' 'CESAR' 'CHOCÓ'\n",
      " 'CÓRDOBA' 'MAGDALENA' 'META' 'NARIÑO' 'NORTE DE SANTANDER' 'PUTUMAYO'\n",
      " 'RISARALDA' 'SANTANDER' 'TOLIMA' 'VAUPÉS' 'GUAVIARE' 'GUAJIRA' 'QUINDÍO'\n",
      " 'AMAZONAS' 'VICHADA' 'GUAINÍA' 'SAN ANDRÉS' 'NO REPORTA']\n",
      "--------------------------------------------------\n",
      "municipio\n",
      "['BARRANQUILLA (CT)' 'DUITAMA' 'PUERTO RICO' ... 'RÍO QUITO' 'NOROSÍ'\n",
      " 'CHIVOLO']\n",
      "--------------------------------------------------\n",
      "codigo_dane\n",
      "[8001000 15238000 18592000 ... 27135000 27099000 47960000]\n",
      "--------------------------------------------------\n",
      "armas_medios\n",
      "['ARMA BLANCA / CORTOPUNZANTE' 'ARMA DE FUEGO' 'CONTUNDENTES' 'CORTANTES'\n",
      " 'CORTOPUNZANTES' 'NO REPORTADO' 'PUNZANTES' 'SIN EMPLEO DE ARMAS'\n",
      " 'NO REPORTA' 'ESCOPOLAMINA' '-']\n",
      "--------------------------------------------------\n",
      "genero\n",
      "['MASCULINO' 'FEMENINO' 'NO REPORTA' '-' 'NO REPORTADO']\n",
      "--------------------------------------------------\n",
      "grupo_etario\n",
      "['ADULTOS' 'ADOLESCENTES' 'MENORES' 'NO REPORTA' nan 'NO REPORTADO']\n",
      "--------------------------------------------------\n"
     ]
    }
   ],
   "source": [
    "for col in df.describe(include='object').columns:\n",
    "    print(col)\n",
    "    print(df[col].unique())\n",
    "    print('-'*50)"
   ]
  },
  {
   "cell_type": "code",
   "execution_count": 350,
   "metadata": {},
   "outputs": [
    {
     "data": {
      "text/plain": [
       "Unnamed: 0           0\n",
       "departamento         0\n",
       "municipio            0\n",
       "codigo_dane          0\n",
       "armas_medios         0\n",
       "fecha_hecho     575721\n",
       "genero               0\n",
       "grupo_etario      1611\n",
       "cantidad             0\n",
       "dtype: int64"
      ]
     },
     "execution_count": 350,
     "metadata": {},
     "output_type": "execute_result"
    }
   ],
   "source": [
    "df.isnull().sum()"
   ]
  },
  {
   "cell_type": "code",
   "execution_count": 351,
   "metadata": {},
   "outputs": [],
   "source": [
    "df.drop(['grupo_etario', 'fecha_hecho'], axis = 1, inplace=True)"
   ]
  },
  {
   "cell_type": "code",
   "execution_count": 352,
   "metadata": {},
   "outputs": [],
   "source": [
    "df.dropna(inplace=True)"
   ]
  },
  {
   "cell_type": "code",
   "execution_count": 353,
   "metadata": {},
   "outputs": [
    {
     "data": {
      "text/plain": [
       "Unnamed: 0      0\n",
       "departamento    0\n",
       "municipio       0\n",
       "codigo_dane     0\n",
       "armas_medios    0\n",
       "genero          0\n",
       "cantidad        0\n",
       "dtype: int64"
      ]
     },
     "execution_count": 353,
     "metadata": {},
     "output_type": "execute_result"
    }
   ],
   "source": [
    "df.isnull().sum()"
   ]
  },
  {
   "cell_type": "code",
   "execution_count": 354,
   "metadata": {},
   "outputs": [
    {
     "data": {
      "text/html": [
       "<div>\n",
       "<style scoped>\n",
       "    .dataframe tbody tr th:only-of-type {\n",
       "        vertical-align: middle;\n",
       "    }\n",
       "\n",
       "    .dataframe tbody tr th {\n",
       "        vertical-align: top;\n",
       "    }\n",
       "\n",
       "    .dataframe thead th {\n",
       "        text-align: right;\n",
       "    }\n",
       "</style>\n",
       "<table border=\"1\" class=\"dataframe\">\n",
       "  <thead>\n",
       "    <tr style=\"text-align: right;\">\n",
       "      <th></th>\n",
       "      <th>Unnamed: 0</th>\n",
       "      <th>cantidad</th>\n",
       "    </tr>\n",
       "  </thead>\n",
       "  <tbody>\n",
       "    <tr>\n",
       "      <th>count</th>\n",
       "      <td>575721.000000</td>\n",
       "      <td>575721.000000</td>\n",
       "    </tr>\n",
       "    <tr>\n",
       "      <th>mean</th>\n",
       "      <td>287860.000000</td>\n",
       "      <td>1.798076</td>\n",
       "    </tr>\n",
       "    <tr>\n",
       "      <th>std</th>\n",
       "      <td>166196.481502</td>\n",
       "      <td>3.912093</td>\n",
       "    </tr>\n",
       "    <tr>\n",
       "      <th>min</th>\n",
       "      <td>0.000000</td>\n",
       "      <td>1.000000</td>\n",
       "    </tr>\n",
       "    <tr>\n",
       "      <th>25%</th>\n",
       "      <td>143930.000000</td>\n",
       "      <td>1.000000</td>\n",
       "    </tr>\n",
       "    <tr>\n",
       "      <th>50%</th>\n",
       "      <td>287860.000000</td>\n",
       "      <td>1.000000</td>\n",
       "    </tr>\n",
       "    <tr>\n",
       "      <th>75%</th>\n",
       "      <td>431790.000000</td>\n",
       "      <td>1.000000</td>\n",
       "    </tr>\n",
       "    <tr>\n",
       "      <th>max</th>\n",
       "      <td>575720.000000</td>\n",
       "      <td>143.000000</td>\n",
       "    </tr>\n",
       "  </tbody>\n",
       "</table>\n",
       "</div>"
      ],
      "text/plain": [
       "          Unnamed: 0       cantidad\n",
       "count  575721.000000  575721.000000\n",
       "mean   287860.000000       1.798076\n",
       "std    166196.481502       3.912093\n",
       "min         0.000000       1.000000\n",
       "25%    143930.000000       1.000000\n",
       "50%    287860.000000       1.000000\n",
       "75%    431790.000000       1.000000\n",
       "max    575720.000000     143.000000"
      ]
     },
     "execution_count": 354,
     "metadata": {},
     "output_type": "execute_result"
    }
   ],
   "source": [
    "df.describe()"
   ]
  },
  {
   "cell_type": "code",
   "execution_count": 355,
   "metadata": {},
   "outputs": [],
   "source": [
    "df = df[df['cantidad']<5000]"
   ]
  },
  {
   "cell_type": "code",
   "execution_count": 356,
   "metadata": {},
   "outputs": [],
   "source": [
    "# Data Analysis and Visualizations"
   ]
  },
  {
   "cell_type": "code",
   "execution_count": 357,
   "metadata": {},
   "outputs": [
    {
     "name": "stdout",
     "output_type": "stream",
     "text": [
      "armas_medios\n",
      "CONTUNDENTES                   0.486644\n",
      "SIN EMPLEO DE ARMAS            0.293640\n",
      "NO REPORTADO                   0.124939\n",
      "ARMA BLANCA / CORTOPUNZANTE    0.071095\n",
      "NO REPORTA                     0.007679\n",
      "ESCOPOLAMINA                   0.006710\n",
      "ARMA DE FUEGO                  0.004707\n",
      "CORTOPUNZANTES                 0.002027\n",
      "CORTANTES                      0.001977\n",
      "PUNZANTES                      0.000580\n",
      "-                              0.000002\n",
      "Name: proportion, dtype: float64\n"
     ]
    }
   ],
   "source": [
    "cancelled_perc = df['armas_medios'].value_counts(normalize=True)\n",
    "print(cancelled_perc)\n",
    "\n"
   ]
  },
  {
   "cell_type": "code",
   "execution_count": 367,
   "metadata": {},
   "outputs": [],
   "source": [
    "# De este punto, las variables a tomar en cuenta modificando codigo\n",
    "armas_medios_counts = df['armas_medios'].value_counts()"
   ]
  },
  {
   "cell_type": "code",
   "execution_count": 368,
   "metadata": {},
   "outputs": [
    {
     "data": {
      "image/png": "[encoded data removed]",
      "text/plain": [
       "<Figure size 3000x1000 with 1 Axes>"
      ]
     },
     "metadata": {},
     "output_type": "display_data"
    }
   ],
   "source": [
    "plt.figure(figsize=(30, 10))  # Set the figure size\n",
    "plt.title('Armas y medios count')  # Set the plot title\n",
    "plt.bar(armas_medios_counts.index, armas_medios_counts, edgecolor='k', width=0.8)\n",
    "plt.xlabel('armas_medios')  # Set the x-axis label\n",
    "plt.ylabel('cantidad')  # Set the y-axis label\n",
    "plt.show()\n"
   ]
  },
  {
   "cell_type": "code",
   "execution_count": null,
   "metadata": {},
   "outputs": [],
   "source": []
  }
 ],
 "metadata": {
  "kernelspec": {
   "display_name": "Python 3",
   "language": "python",
   "name": "python3"
  },
  "language_info": {
   "codemirror_mode": {
    "name": "ipython",
    "version": 3
   },
   "file_extension": ".py",
   "mimetype": "text/x-python",
   "name": "python",
   "nbconvert_exporter": "python",
   "pygments_lexer": "ipython3",
   "version": "3.11.0"
  },
  "orig_nbformat": 4
 },
 "nbformat": 4,
 "nbformat_minor": 2
}
